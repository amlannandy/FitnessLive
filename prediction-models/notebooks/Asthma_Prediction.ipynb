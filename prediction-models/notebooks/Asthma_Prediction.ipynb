{
  "nbformat": 4,
  "nbformat_minor": 0,
  "metadata": {
    "colab": {
      "name": "Asthma Prediction.ipynb",
      "provenance": [],
      "collapsed_sections": []
    },
    "kernelspec": {
      "display_name": "Python 3",
      "name": "python3"
    }
  },
  "cells": [
    {
      "cell_type": "code",
      "metadata": {
        "id": "-tl2FRH4kZGZ"
      },
      "source": [
        "import pandas as pd\r\n",
        "import numpy as np\r\n",
        "import matplotlib.pyplot as plt"
      ],
      "execution_count": 39,
      "outputs": []
    },
    {
      "cell_type": "code",
      "metadata": {
        "id": "umnfmbU0b675"
      },
      "source": [
        "%matplotlib inline"
      ],
      "execution_count": 40,
      "outputs": []
    },
    {
      "cell_type": "code",
      "metadata": {
        "id": "_EaG44GKcFJ7"
      },
      "source": [
        "# Url to the raw csv file in the github repository\r\n",
        "url = 'https://raw.githubusercontent.com/amlannandy/FitnessLive/master/prediction-models/data/asthma.csv'"
      ],
      "execution_count": 58,
      "outputs": []
    },
    {
      "cell_type": "code",
      "metadata": {
        "colab": {
          "base_uri": "https://localhost:8080/"
        },
        "id": "8ufgE1J1hMwg",
        "outputId": "9aebd0e1-39b3-41d4-b59d-6d3af4cefcd0"
      },
      "source": [
        "# Read data from csv\r\n",
        "asthma = pd.read_csv(url)\r\n",
        "print(asthma.columns)"
      ],
      "execution_count": 59,
      "outputs": [
        {
          "output_type": "stream",
          "text": [
            "Index(['Diagnosis', 'ID', 'Imaginary Part', 'Unnamed: 3', 'Real Part',\n",
            "       'Unnamed: 5', 'Gender', 'Age', 'Smoking', 'Unnamed: 9', 'Unnamed: 10',\n",
            "       'Unnamed: 11', 'Unnamed: 12'],\n",
            "      dtype='object')\n"
          ],
          "name": "stdout"
        }
      ]
    },
    {
      "cell_type": "code",
      "metadata": {
        "id": "zX3B_SIzN2Kp"
      },
      "source": [
        "asthma = asthma.iloc[3:]"
      ],
      "execution_count": 60,
      "outputs": []
    },
    {
      "cell_type": "code",
      "metadata": {
        "id": "d8mOyRgTKhej"
      },
      "source": [
        "asthma = asthma[asthma.columns[:-3]]"
      ],
      "execution_count": 61,
      "outputs": []
    },
    {
      "cell_type": "code",
      "metadata": {
        "colab": {
          "base_uri": "https://localhost:8080/",
          "height": 204
        },
        "id": "bB3UWFxQhY2g",
        "outputId": "b86bfbf0-aceb-4adb-edb6-d003fc8099c3"
      },
      "source": [
        "# Show first 5 rows of data\r\n",
        "asthma.head(5)"
      ],
      "execution_count": 62,
      "outputs": [
        {
          "output_type": "execute_result",
          "data": {
            "text/html": [
              "<div>\n",
              "<style scoped>\n",
              "    .dataframe tbody tr th:only-of-type {\n",
              "        vertical-align: middle;\n",
              "    }\n",
              "\n",
              "    .dataframe tbody tr th {\n",
              "        vertical-align: top;\n",
              "    }\n",
              "\n",
              "    .dataframe thead th {\n",
              "        text-align: right;\n",
              "    }\n",
              "</style>\n",
              "<table border=\"1\" class=\"dataframe\">\n",
              "  <thead>\n",
              "    <tr style=\"text-align: right;\">\n",
              "      <th></th>\n",
              "      <th>Diagnosis</th>\n",
              "      <th>ID</th>\n",
              "      <th>Imaginary Part</th>\n",
              "      <th>Unnamed: 3</th>\n",
              "      <th>Real Part</th>\n",
              "      <th>Unnamed: 5</th>\n",
              "      <th>Gender</th>\n",
              "      <th>Age</th>\n",
              "      <th>Smoking</th>\n",
              "      <th>Unnamed: 9</th>\n",
              "    </tr>\n",
              "  </thead>\n",
              "  <tbody>\n",
              "    <tr>\n",
              "      <th>3</th>\n",
              "      <td>COPD</td>\n",
              "      <td>302-3</td>\n",
              "      <td>-325.39</td>\n",
              "      <td>-314.7503595</td>\n",
              "      <td>-473.73</td>\n",
              "      <td>-469.2631404</td>\n",
              "      <td>0.0</td>\n",
              "      <td>72.0</td>\n",
              "      <td>2.0</td>\n",
              "      <td>NaN</td>\n",
              "    </tr>\n",
              "    <tr>\n",
              "      <th>4</th>\n",
              "      <td>COPD</td>\n",
              "      <td>303-3</td>\n",
              "      <td>-323</td>\n",
              "      <td>-317.4360556</td>\n",
              "      <td>-476.12</td>\n",
              "      <td>-471.8976667</td>\n",
              "      <td>1.0</td>\n",
              "      <td>73.0</td>\n",
              "      <td>3.0</td>\n",
              "      <td>NaN</td>\n",
              "    </tr>\n",
              "    <tr>\n",
              "      <th>5</th>\n",
              "      <td>COPD</td>\n",
              "      <td>304-4</td>\n",
              "      <td>-327.78</td>\n",
              "      <td>-317.3996698</td>\n",
              "      <td>-473.73</td>\n",
              "      <td>-468.856388</td>\n",
              "      <td>1.0</td>\n",
              "      <td>76.0</td>\n",
              "      <td>2.0</td>\n",
              "      <td>NaN</td>\n",
              "    </tr>\n",
              "    <tr>\n",
              "      <th>6</th>\n",
              "      <td>COPD</td>\n",
              "      <td>305-4</td>\n",
              "      <td>-325.39</td>\n",
              "      <td>-316.1557853</td>\n",
              "      <td>-478.52</td>\n",
              "      <td>-472.8697828</td>\n",
              "      <td>0.0</td>\n",
              "      <td>65.0</td>\n",
              "      <td>2.0</td>\n",
              "      <td>NaN</td>\n",
              "    </tr>\n",
              "    <tr>\n",
              "      <th>7</th>\n",
              "      <td>COPD</td>\n",
              "      <td>306-3</td>\n",
              "      <td>-327.78</td>\n",
              "      <td>-318.6775535</td>\n",
              "      <td>-507.23</td>\n",
              "      <td>-469.0241943</td>\n",
              "      <td>1.0</td>\n",
              "      <td>60.0</td>\n",
              "      <td>2.0</td>\n",
              "      <td>NaN</td>\n",
              "    </tr>\n",
              "  </tbody>\n",
              "</table>\n",
              "</div>"
            ],
            "text/plain": [
              "  Diagnosis     ID Imaginary Part  ...   Age Smoking Unnamed: 9\n",
              "3      COPD  302-3        -325.39  ...  72.0     2.0        NaN\n",
              "4      COPD  303-3           -323  ...  73.0     3.0        NaN\n",
              "5      COPD  304-4        -327.78  ...  76.0     2.0        NaN\n",
              "6      COPD  305-4        -325.39  ...  65.0     2.0        NaN\n",
              "7      COPD  306-3        -327.78  ...  60.0     2.0        NaN\n",
              "\n",
              "[5 rows x 10 columns]"
            ]
          },
          "metadata": {
            "tags": []
          },
          "execution_count": 62
        }
      ]
    },
    {
      "cell_type": "code",
      "metadata": {
        "colab": {
          "base_uri": "https://localhost:8080/"
        },
        "id": "HIOAkkPxi4F5",
        "outputId": "dd879b34-77b1-4e54-8c87-2094f6bb0cab"
      },
      "source": [
        "asthma.info()"
      ],
      "execution_count": 63,
      "outputs": [
        {
          "output_type": "stream",
          "text": [
            "<class 'pandas.core.frame.DataFrame'>\n",
            "RangeIndex: 398 entries, 3 to 400\n",
            "Data columns (total 10 columns):\n",
            " #   Column          Non-Null Count  Dtype  \n",
            "---  ------          --------------  -----  \n",
            " 0   Diagnosis       398 non-null    object \n",
            " 1   ID              398 non-null    object \n",
            " 2   Imaginary Part  99 non-null     object \n",
            " 3   Unnamed: 3      99 non-null     object \n",
            " 4   Real Part       99 non-null     object \n",
            " 5   Unnamed: 5      99 non-null     object \n",
            " 6   Gender          398 non-null    float64\n",
            " 7   Age             398 non-null    float64\n",
            " 8   Smoking         398 non-null    float64\n",
            " 9   Unnamed: 9      0 non-null      float64\n",
            "dtypes: float64(4), object(6)\n",
            "memory usage: 31.2+ KB\n"
          ],
          "name": "stdout"
        }
      ]
    },
    {
      "cell_type": "code",
      "metadata": {
        "id": "b9oMZuJmJqEa"
      },
      "source": [
        "asthma.drop('ID', inplace=True, axis=1)\r\n",
        "asthma['Diagnosis'].fillna('COPD', inplace=True)\r\n",
        "asthma.fillna(0, inplace=True)"
      ],
      "execution_count": 68,
      "outputs": []
    },
    {
      "cell_type": "code",
      "metadata": {
        "colab": {
          "base_uri": "https://localhost:8080/",
          "height": 669
        },
        "id": "cLAfYbOXNm3f",
        "outputId": "f993d4e1-2551-4414-f995-a4246c8f50dd"
      },
      "source": [
        "asthma.head(20)"
      ],
      "execution_count": 69,
      "outputs": [
        {
          "output_type": "execute_result",
          "data": {
            "text/html": [
              "<div>\n",
              "<style scoped>\n",
              "    .dataframe tbody tr th:only-of-type {\n",
              "        vertical-align: middle;\n",
              "    }\n",
              "\n",
              "    .dataframe tbody tr th {\n",
              "        vertical-align: top;\n",
              "    }\n",
              "\n",
              "    .dataframe thead th {\n",
              "        text-align: right;\n",
              "    }\n",
              "</style>\n",
              "<table border=\"1\" class=\"dataframe\">\n",
              "  <thead>\n",
              "    <tr style=\"text-align: right;\">\n",
              "      <th></th>\n",
              "      <th>Diagnosis</th>\n",
              "      <th>Imaginary Part</th>\n",
              "      <th>Unnamed: 3</th>\n",
              "      <th>Real Part</th>\n",
              "      <th>Unnamed: 5</th>\n",
              "      <th>Gender</th>\n",
              "      <th>Age</th>\n",
              "      <th>Smoking</th>\n",
              "      <th>Unnamed: 9</th>\n",
              "    </tr>\n",
              "  </thead>\n",
              "  <tbody>\n",
              "    <tr>\n",
              "      <th>3</th>\n",
              "      <td>COPD</td>\n",
              "      <td>-325.39</td>\n",
              "      <td>-314.7503595</td>\n",
              "      <td>-473.73</td>\n",
              "      <td>-469.2631404</td>\n",
              "      <td>0.0</td>\n",
              "      <td>72.0</td>\n",
              "      <td>2.0</td>\n",
              "      <td>0.0</td>\n",
              "    </tr>\n",
              "    <tr>\n",
              "      <th>4</th>\n",
              "      <td>COPD</td>\n",
              "      <td>-323</td>\n",
              "      <td>-317.4360556</td>\n",
              "      <td>-476.12</td>\n",
              "      <td>-471.8976667</td>\n",
              "      <td>1.0</td>\n",
              "      <td>73.0</td>\n",
              "      <td>3.0</td>\n",
              "      <td>0.0</td>\n",
              "    </tr>\n",
              "    <tr>\n",
              "      <th>5</th>\n",
              "      <td>COPD</td>\n",
              "      <td>-327.78</td>\n",
              "      <td>-317.3996698</td>\n",
              "      <td>-473.73</td>\n",
              "      <td>-468.856388</td>\n",
              "      <td>1.0</td>\n",
              "      <td>76.0</td>\n",
              "      <td>2.0</td>\n",
              "      <td>0.0</td>\n",
              "    </tr>\n",
              "    <tr>\n",
              "      <th>6</th>\n",
              "      <td>COPD</td>\n",
              "      <td>-325.39</td>\n",
              "      <td>-316.1557853</td>\n",
              "      <td>-478.52</td>\n",
              "      <td>-472.8697828</td>\n",
              "      <td>0.0</td>\n",
              "      <td>65.0</td>\n",
              "      <td>2.0</td>\n",
              "      <td>0.0</td>\n",
              "    </tr>\n",
              "    <tr>\n",
              "      <th>7</th>\n",
              "      <td>COPD</td>\n",
              "      <td>-327.78</td>\n",
              "      <td>-318.6775535</td>\n",
              "      <td>-507.23</td>\n",
              "      <td>-469.0241943</td>\n",
              "      <td>1.0</td>\n",
              "      <td>60.0</td>\n",
              "      <td>2.0</td>\n",
              "      <td>0.0</td>\n",
              "    </tr>\n",
              "    <tr>\n",
              "      <th>8</th>\n",
              "      <td>COPD</td>\n",
              "      <td>-330.18</td>\n",
              "      <td>-320.6174777</td>\n",
              "      <td>-473.73</td>\n",
              "      <td>-467.3618538</td>\n",
              "      <td>1.0</td>\n",
              "      <td>76.0</td>\n",
              "      <td>2.0</td>\n",
              "      <td>0.0</td>\n",
              "    </tr>\n",
              "    <tr>\n",
              "      <th>9</th>\n",
              "      <td>COPD</td>\n",
              "      <td>0</td>\n",
              "      <td>0</td>\n",
              "      <td>0</td>\n",
              "      <td>0</td>\n",
              "      <td>1.0</td>\n",
              "      <td>77.0</td>\n",
              "      <td>2.0</td>\n",
              "      <td>0.0</td>\n",
              "    </tr>\n",
              "    <tr>\n",
              "      <th>10</th>\n",
              "      <td>COPD</td>\n",
              "      <td>-320.61</td>\n",
              "      <td>-307.5995856</td>\n",
              "      <td>-476.12</td>\n",
              "      <td>-470.1816328</td>\n",
              "      <td>1.0</td>\n",
              "      <td>74.0</td>\n",
              "      <td>2.0</td>\n",
              "      <td>0.0</td>\n",
              "    </tr>\n",
              "    <tr>\n",
              "      <th>11</th>\n",
              "      <td>COPD</td>\n",
              "      <td>-315.82</td>\n",
              "      <td>-300.104765</td>\n",
              "      <td>-473.73</td>\n",
              "      <td>-466.3786343</td>\n",
              "      <td>1.0</td>\n",
              "      <td>67.0</td>\n",
              "      <td>2.0</td>\n",
              "      <td>0.0</td>\n",
              "    </tr>\n",
              "    <tr>\n",
              "      <th>12</th>\n",
              "      <td>COPD</td>\n",
              "      <td>-320.61</td>\n",
              "      <td>-308.117898</td>\n",
              "      <td>-471.34</td>\n",
              "      <td>-466.13057</td>\n",
              "      <td>1.0</td>\n",
              "      <td>65.0</td>\n",
              "      <td>2.0</td>\n",
              "      <td>0.0</td>\n",
              "    </tr>\n",
              "    <tr>\n",
              "      <th>13</th>\n",
              "      <td>COPD</td>\n",
              "      <td>-318.21</td>\n",
              "      <td>-306.2530384</td>\n",
              "      <td>-471.34</td>\n",
              "      <td>-466.5250462</td>\n",
              "      <td>1.0</td>\n",
              "      <td>75.0</td>\n",
              "      <td>2.0</td>\n",
              "      <td>0.0</td>\n",
              "    </tr>\n",
              "    <tr>\n",
              "      <th>14</th>\n",
              "      <td>COPD</td>\n",
              "      <td>-315.82</td>\n",
              "      <td>-294.2698616</td>\n",
              "      <td>-471.34</td>\n",
              "      <td>-463.1934272</td>\n",
              "      <td>0.0</td>\n",
              "      <td>56.0</td>\n",
              "      <td>2.0</td>\n",
              "      <td>0.0</td>\n",
              "    </tr>\n",
              "    <tr>\n",
              "      <th>15</th>\n",
              "      <td>COPD</td>\n",
              "      <td>-313.43</td>\n",
              "      <td>-299.0552022</td>\n",
              "      <td>-521.58</td>\n",
              "      <td>-421.1894102</td>\n",
              "      <td>1.0</td>\n",
              "      <td>75.0</td>\n",
              "      <td>2.0</td>\n",
              "      <td>0.0</td>\n",
              "    </tr>\n",
              "    <tr>\n",
              "      <th>16</th>\n",
              "      <td>COPD</td>\n",
              "      <td>-311.04</td>\n",
              "      <td>-297.9901</td>\n",
              "      <td>-466.55</td>\n",
              "      <td>-428.9503667</td>\n",
              "      <td>0.0</td>\n",
              "      <td>65.0</td>\n",
              "      <td>2.0</td>\n",
              "      <td>0.0</td>\n",
              "    </tr>\n",
              "    <tr>\n",
              "      <th>17</th>\n",
              "      <td>COPD</td>\n",
              "      <td>0</td>\n",
              "      <td>0</td>\n",
              "      <td>0</td>\n",
              "      <td>0</td>\n",
              "      <td>1.0</td>\n",
              "      <td>45.0</td>\n",
              "      <td>2.0</td>\n",
              "      <td>0.0</td>\n",
              "    </tr>\n",
              "    <tr>\n",
              "      <th>18</th>\n",
              "      <td>COPD</td>\n",
              "      <td>0</td>\n",
              "      <td>0</td>\n",
              "      <td>0</td>\n",
              "      <td>0</td>\n",
              "      <td>1.0</td>\n",
              "      <td>69.0</td>\n",
              "      <td>2.0</td>\n",
              "      <td>0.0</td>\n",
              "    </tr>\n",
              "    <tr>\n",
              "      <th>19</th>\n",
              "      <td>COPD</td>\n",
              "      <td>-323</td>\n",
              "      <td>-293.0287817</td>\n",
              "      <td>-466.55</td>\n",
              "      <td>-431.9906508</td>\n",
              "      <td>1.0</td>\n",
              "      <td>93.0</td>\n",
              "      <td>2.0</td>\n",
              "      <td>0.0</td>\n",
              "    </tr>\n",
              "    <tr>\n",
              "      <th>20</th>\n",
              "      <td>COPD</td>\n",
              "      <td>-308.64</td>\n",
              "      <td>-294.366142</td>\n",
              "      <td>-468.95</td>\n",
              "      <td>-414.6756675</td>\n",
              "      <td>1.0</td>\n",
              "      <td>70.0</td>\n",
              "      <td>2.0</td>\n",
              "      <td>0.0</td>\n",
              "    </tr>\n",
              "    <tr>\n",
              "      <th>21</th>\n",
              "      <td>COPD</td>\n",
              "      <td>-325.39</td>\n",
              "      <td>-317.1295776</td>\n",
              "      <td>-473.73</td>\n",
              "      <td>-468.8069765</td>\n",
              "      <td>1.0</td>\n",
              "      <td>75.0</td>\n",
              "      <td>2.0</td>\n",
              "      <td>0.0</td>\n",
              "    </tr>\n",
              "    <tr>\n",
              "      <th>22</th>\n",
              "      <td>COPD</td>\n",
              "      <td>-323</td>\n",
              "      <td>-314.5167598</td>\n",
              "      <td>-502.44</td>\n",
              "      <td>-467.7786275</td>\n",
              "      <td>1.0</td>\n",
              "      <td>75.0</td>\n",
              "      <td>2.0</td>\n",
              "      <td>0.0</td>\n",
              "    </tr>\n",
              "  </tbody>\n",
              "</table>\n",
              "</div>"
            ],
            "text/plain": [
              "   Diagnosis Imaginary Part    Unnamed: 3  ...   Age Smoking  Unnamed: 9\n",
              "3       COPD        -325.39  -314.7503595  ...  72.0     2.0         0.0\n",
              "4       COPD           -323  -317.4360556  ...  73.0     3.0         0.0\n",
              "5       COPD        -327.78  -317.3996698  ...  76.0     2.0         0.0\n",
              "6       COPD        -325.39  -316.1557853  ...  65.0     2.0         0.0\n",
              "7       COPD        -327.78  -318.6775535  ...  60.0     2.0         0.0\n",
              "8       COPD        -330.18  -320.6174777  ...  76.0     2.0         0.0\n",
              "9       COPD              0             0  ...  77.0     2.0         0.0\n",
              "10      COPD        -320.61  -307.5995856  ...  74.0     2.0         0.0\n",
              "11      COPD        -315.82   -300.104765  ...  67.0     2.0         0.0\n",
              "12      COPD        -320.61   -308.117898  ...  65.0     2.0         0.0\n",
              "13      COPD        -318.21  -306.2530384  ...  75.0     2.0         0.0\n",
              "14      COPD        -315.82  -294.2698616  ...  56.0     2.0         0.0\n",
              "15      COPD        -313.43  -299.0552022  ...  75.0     2.0         0.0\n",
              "16      COPD        -311.04     -297.9901  ...  65.0     2.0         0.0\n",
              "17      COPD              0             0  ...  45.0     2.0         0.0\n",
              "18      COPD              0             0  ...  69.0     2.0         0.0\n",
              "19      COPD           -323  -293.0287817  ...  93.0     2.0         0.0\n",
              "20      COPD        -308.64   -294.366142  ...  70.0     2.0         0.0\n",
              "21      COPD        -325.39  -317.1295776  ...  75.0     2.0         0.0\n",
              "22      COPD           -323  -314.5167598  ...  75.0     2.0         0.0\n",
              "\n",
              "[20 rows x 9 columns]"
            ]
          },
          "metadata": {
            "tags": []
          },
          "execution_count": 69
        }
      ]
    },
    {
      "cell_type": "code",
      "metadata": {
        "id": "TXrSv2HWi8g4"
      },
      "source": [
        "from sklearn.model_selection import train_test_split\r\n",
        "X_train, X_test, y_train, y_test = train_test_split(asthma.loc[:, asthma.columns != 'Gender'], asthma['Gender'], stratify=asthma['Gender'], random_state=66)\r\n",
        "from sklearn.neighbors import KNeighborsClassifier\r\n",
        "training_accuracy = []\r\n",
        "test_accuracy = []\r\n",
        "# try n_neighbors from 1 to 10\r\n",
        "neighbors_settings = range(1, 11)\r\n",
        "for n_neighbors in neighbors_settings:\r\n",
        "    # build the model\r\n",
        "    knn = KNeighborsClassifier(n_neighbors=n_neighbors)\r\n",
        "    knn.fit(X_train, y_train)\r\n",
        "    # record training set accuracy\r\n",
        "    training_accuracy.append(knn.score(X_train, y_train))\r\n",
        "    # record test set accuracy\r\n",
        "    test_accuracy.append(knn.score(X_test, y_test))"
      ],
      "execution_count": 73,
      "outputs": []
    },
    {
      "cell_type": "code",
      "metadata": {
        "colab": {
          "base_uri": "https://localhost:8080/"
        },
        "id": "SMKGSt94jAaw",
        "outputId": "e0e4c0ae-86a6-43a7-edff-c4cce62391f3"
      },
      "source": [
        "knn = KNeighborsClassifier(n_neighbors=9)\r\n",
        "knn.fit(X_train, y_train)\r\n",
        "print('Accuracy of K-NN classifier on training set: {:.2f}'.format(knn.score(X_train, y_train)))\r\n",
        "print('Accuracy of K-NN classifier on test set: {:.2f}'.format(knn.score(X_test, y_test)))"
      ],
      "execution_count": null,
      "outputs": [
        {
          "output_type": "stream",
          "text": [
            "Accuracy of K-NN classifier on training set: 0.79\n",
            "Accuracy of K-NN classifier on test set: 0.78\n"
          ],
          "name": "stdout"
        }
      ]
    },
    {
      "cell_type": "code",
      "metadata": {
        "colab": {
          "base_uri": "https://localhost:8080/"
        },
        "id": "CvaJ0q9bjFTp",
        "outputId": "92ce4a0b-451f-48b7-de26-0e949b6c3ac6"
      },
      "source": [
        "sample = np.array([6, 128, 72, 35, 0, 33.6, 0.627, 50])\r\n",
        "sample = sample.reshape(1, -1)\r\n",
        "print(sample)"
      ],
      "execution_count": null,
      "outputs": [
        {
          "output_type": "stream",
          "text": [
            "[[  6.    128.     72.     35.      0.     33.6     0.627  50.   ]]\n"
          ],
          "name": "stdout"
        }
      ]
    },
    {
      "cell_type": "markdown",
      "metadata": {
        "id": "rF_25tqo8b4p"
      },
      "source": [
        ""
      ]
    },
    {
      "cell_type": "code",
      "metadata": {
        "colab": {
          "base_uri": "https://localhost:8080/"
        },
        "id": "4ZG7IooW2tAC",
        "outputId": "12f5ef45-3372-40fe-93c0-0965abaf44a5"
      },
      "source": [
        "res = knn.predict(sample)\r\n",
        "prob = knn.predict_proba(sample)\r\n",
        "print(res, prob)"
      ],
      "execution_count": null,
      "outputs": [
        {
          "output_type": "stream",
          "text": [
            "[1] [[0.44444444 0.55555556]]\n"
          ],
          "name": "stdout"
        }
      ]
    },
    {
      "cell_type": "code",
      "metadata": {
        "id": "X5hdT72yeyZv"
      },
      "source": [
        "import pickle"
      ],
      "execution_count": null,
      "outputs": []
    },
    {
      "cell_type": "code",
      "metadata": {
        "id": "XyNUeFIIezyM"
      },
      "source": [
        "pickle.dump(knn, open('model.pkl', 'wb'))"
      ],
      "execution_count": null,
      "outputs": []
    }
  ]
}